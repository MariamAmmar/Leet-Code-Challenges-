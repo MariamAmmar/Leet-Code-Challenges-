{
 "cells": [
  {
   "cell_type": "markdown",
   "metadata": {},
   "source": [
    "# Leet Code Challenges "
   ]
  },
  {
   "cell_type": "markdown",
   "metadata": {},
   "source": [
    "Given a string s, find the length of the longest substring without repeating characters."
   ]
  },
  {
   "cell_type": "code",
   "execution_count": 107,
   "metadata": {},
   "outputs": [],
   "source": [
    "s = \"abcabcbb\"\n",
    "\n",
    "\n",
    "word1 = ''\n",
    "word2 = ''\n",
    "word3 = ''\n",
    "\n",
    "\n",
    "dict1 = {}\n",
    "\n",
    "for i in s: \n",
    "    if i not in word1:\n",
    "        word1 = word1 + i\n",
    "    else:\n",
    "        break\n",
    "\n",
    "for i in s:\n",
    "    if i not in word2:\n",
    "        word2 = word2+i\n",
    "        word2 = word2.replace(word1, \"\")\n",
    "        \n",
    "        \n",
    "word3 = s.replace(words, \"\") \n",
    "\n",
    "        \n"
   ]
  },
  {
   "cell_type": "code",
   "execution_count": 110,
   "metadata": {},
   "outputs": [
    {
     "data": {
      "text/plain": [
       "'b'"
      ]
     },
     "execution_count": 110,
     "metadata": {},
     "output_type": "execute_result"
    }
   ],
   "source": [
    "\n",
    "word2\n"
   ]
  },
  {
   "cell_type": "code",
   "execution_count": 188,
   "metadata": {},
   "outputs": [
    {
     "data": {
      "text/plain": [
       "3"
      ]
     },
     "execution_count": 188,
     "metadata": {},
     "output_type": "execute_result"
    }
   ],
   "source": [
    "s = \"pwwkew\"\n",
    "\n",
    "word1 = ''\n",
    "word2 = ''\n",
    "word3 = ''\n",
    "\n",
    "\n",
    "for i in s: \n",
    "    if i not in word1:\n",
    "        word1 = word1 + i\n",
    "    else:\n",
    "        break\n",
    "        s = s.replace(word1, \"\", 1)    \n",
    "    s = s.replace(word1, \"\", 1)    \n",
    "\n",
    "\n",
    "for i in s: \n",
    "    if i not in word2:\n",
    "        word2 = word2 + i\n",
    "        \n",
    "s = s.replace(word2, \"\", 1) \n",
    "        \n",
    "for i in s: \n",
    "    if i not in word3:\n",
    "        word3 = word3 + i\n",
    "        \n",
    "\n",
    "words = word1, word2, word3\n",
    "\n",
    "max(len(i) for i in words)\n",
    "\n"
   ]
  },
  {
   "cell_type": "code",
   "execution_count": 199,
   "metadata": {},
   "outputs": [
    {
     "data": {
      "text/plain": [
       "('pw', 'wkep', 'wp')"
      ]
     },
     "execution_count": 199,
     "metadata": {},
     "output_type": "execute_result"
    }
   ],
   "source": [
    "s = \"pwwkew\"\n",
    "\n",
    "for i in s: \n",
    "    if i not in word1:\n",
    "        word1 = word1 + i\n",
    "    else:\n",
    "        break\n",
    "        s = s.replace(word1, \"\", 1)   \n",
    "    s = s.replace(word1, \"\", 1)    \n",
    "\n",
    "for i in s: \n",
    "    if i not in word2:\n",
    "        word2 = word2 + i\n",
    "    else:\n",
    "        break\n",
    "    s = s.replace(word2, \"\", 1)\n",
    "\n",
    "\n",
    "for i in s: \n",
    "    if i not in word3:\n",
    "        word3 = word3 + i\n",
    "    else:\n",
    "        break\n",
    "        s = s.replace(word3, \"\", 1)\n",
    "\n",
    "\n",
    "\n",
    "words = word1, word2, word3\n",
    "\n",
    "\n",
    "words"
   ]
  },
  {
   "cell_type": "code",
   "execution_count": 237,
   "metadata": {},
   "outputs": [
    {
     "name": "stdout",
     "output_type": "stream",
     "text": [
      "2\n"
     ]
    },
    {
     "data": {
      "text/plain": [
       "('', '', 'dv')"
      ]
     },
     "execution_count": 237,
     "metadata": {},
     "output_type": "execute_result"
    }
   ],
   "source": [
    "s = \"dvdf\"\n",
    "\n",
    "word1 = ''\n",
    "word2 = ''\n",
    "word3 = ''\n",
    "\n",
    "for i in s: \n",
    "    if i not in word1:\n",
    "        word1 = word1 + s[0:len(word1)\n",
    "    else:\n",
    "        break\n",
    " \n",
    "s = s.replace(word1, \"\", 1)\n",
    "\n",
    "\n",
    "for i in s: \n",
    "    if i not in word2:\n",
    "        word2 = word2 + s[0:len(word2)]\n",
    "    else:\n",
    "        break\n",
    "        s = s.replace(word2, \"\", 1)\n",
    "s = s.replace(word2, \"\", 1)\n",
    "\n",
    "\n",
    "for i in s: \n",
    "    if i not in word3:\n",
    "        word3 = word3 + i\n",
    "    else:\n",
    "        break\n",
    "        s = s.replace(word3, \"\", 1)\n",
    "\n",
    "\n",
    "words = word1, word2, word3\n",
    "\n",
    "print(max(len(i) for i in words))\n",
    "\n",
    "\n",
    "words"
   ]
  },
  {
   "cell_type": "code",
   "execution_count": 281,
   "metadata": {},
   "outputs": [],
   "source": [
    "s = \"pwwkew\"\n",
    "\n",
    "word1 = ''\n",
    "word2 = ''\n",
    "word3 = ''\n",
    "\n",
    "for i in s:\n",
    "    if i not in word1:\n",
    "        word1 = word1+i\n",
    "    else:\n",
    "        break\n",
    "        \n",
    "s = s.replace(word1, \"\", 1)\n",
    "\n",
    "for i in s:\n",
    "    if i not in word2:\n",
    "        word2 = word2 + i\n",
    "    else:\n",
    "        break\n",
    "        \n",
    "s = s.replace(word2, \"\", 1)\n",
    "\n",
    "       \n",
    "for i in s:\n",
    "    if i not in word3:\n",
    "        word2 = word2 + i\n",
    "    else:\n",
    "        break\n",
    "        \n",
    "s = s.replace(word2, \"\", 1)\n",
    "    \n"
   ]
  },
  {
   "cell_type": "code",
   "execution_count": 297,
   "metadata": {},
   "outputs": [
    {
     "name": "stdout",
     "output_type": "stream",
     "text": [
      "0\n",
      "0\n",
      "2\n",
      "2\n",
      "2\n",
      "2\n",
      "2\n",
      "2\n",
      "4\n",
      "4\n",
      "4\n",
      "6\n",
      "6\n"
     ]
    }
   ],
   "source": [
    "s = \"pwwkeasdkjfaw\"\n",
    "\n",
    "\n",
    "NO_OF_CHARS = 256\n",
    "lastIndex = [-1] * NO_OF_CHARS\n",
    "\n",
    "\n",
    "\n",
    "n = len(s)\n",
    "res = 0   # Result \n",
    "i = 0\n",
    "\n",
    "for j in range(0, n):\n",
    "    i = max(i, lastIndex[ord(s[j])] + 1)\n",
    "    print(i)\n",
    "    res =  max(res, j - i + 1) \n",
    "    lastIndex[ord(s[j])] = j\n",
    "\n"
   ]
  },
  {
   "cell_type": "code",
   "execution_count": 308,
   "metadata": {},
   "outputs": [
    {
     "data": {
      "text/plain": [
       "'a'"
      ]
     },
     "execution_count": 308,
     "metadata": {},
     "output_type": "execute_result"
    }
   ],
   "source": [
    "chr(97)"
   ]
  }
 ],
 "metadata": {
  "kernelspec": {
   "display_name": "Python 3",
   "language": "python",
   "name": "python3"
  },
  "language_info": {
   "codemirror_mode": {
    "name": "ipython",
    "version": 3
   },
   "file_extension": ".py",
   "mimetype": "text/x-python",
   "name": "python",
   "nbconvert_exporter": "python",
   "pygments_lexer": "ipython3",
   "version": "3.7.7"
  }
 },
 "nbformat": 4,
 "nbformat_minor": 4
}
