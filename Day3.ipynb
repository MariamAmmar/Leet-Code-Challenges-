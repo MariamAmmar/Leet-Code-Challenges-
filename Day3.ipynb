{
 "cells": [
  {
   "cell_type": "markdown",
   "metadata": {},
   "source": [
    "# Leet Code Problems \n"
   ]
  },
  {
   "cell_type": "markdown",
   "metadata": {},
   "source": [
    "Given two string arrays word1 and word2, return true if the two arrays represent the same string, and false otherwise.\n",
    "\n",
    "A string is represented by an array if the array elements concatenated in order forms the string."
   ]
  },
  {
   "cell_type": "code",
   "execution_count": 42,
   "metadata": {},
   "outputs": [
    {
     "name": "stdout",
     "output_type": "stream",
     "text": [
      "True\n"
     ]
    }
   ],
   "source": [
    "word1 = [\"ab\", \"c\",\"defg\"]\n",
    "word2 = [\"a\", \"bc\", \"de\",\"fg\"]\n",
    "\n",
    "\n",
    "compiled_w1 = ''\n",
    "for i in word1:\n",
    "    compiled_w1 += i\n",
    "\n",
    "compiled_w2 = ''\n",
    "for i in word2:\n",
    "        compiled_w2 += i\n",
    "\n",
    "if compiled_w1 == compiled_w2:\n",
    "    print(True)\n",
    "else:\n",
    "    print(False)\n",
    "\n"
   ]
  },
  {
   "cell_type": "markdown",
   "metadata": {},
   "source": [
    "### Range Sum of BST\n",
    "\n",
    "Given the root node of a binary search tree, return the sum of values of all nodes with a value in the range [low, high].\n",
    "\n"
   ]
  },
  {
   "cell_type": "code",
   "execution_count": 2,
   "metadata": {},
   "outputs": [],
   "source": [
    "class Solution(object):\n",
    "    def rangeSumBST(self, root, L, R):\n",
    "        def dfs(node):\n",
    "            if node:\n",
    "                if L <= node.val <= R:\n",
    "                    self.ans += node.val\n",
    "                if L < node.val:\n",
    "                    dfs(node.left)\n",
    "                if node.val < R:\n",
    "                    dfs(node.right)\n",
    "\n",
    "        self.ans = 0\n",
    "        dfs(root)\n",
    "        return self.ans"
   ]
  },
  {
   "cell_type": "code",
   "execution_count": 3,
   "metadata": {},
   "outputs": [],
   "source": [
    "class Solution(object):\n",
    "    def rangeSumBST(self, root, L, R):\n",
    "        def dfs(node):\n",
    "            if node:\n",
    "                if L <= node.val <= R:\n",
    "                    self.ans += node.val\n",
    "                if L <= node.val <= R:\n",
    "                    self.ans += node.val\n",
    "                if L <= node.val <= R:\n",
    "                    self.ans += node.val\n",
    "                \n",
    "\n",
    "        self.ans = 0\n",
    "        dfs(root)\n",
    "        return self.ans"
   ]
  },
  {
   "cell_type": "code",
   "execution_count": null,
   "metadata": {},
   "outputs": [],
   "source": []
  },
  {
   "cell_type": "code",
   "execution_count": null,
   "metadata": {},
   "outputs": [],
   "source": []
  },
  {
   "cell_type": "code",
   "execution_count": null,
   "metadata": {},
   "outputs": [],
   "source": []
  },
  {
   "cell_type": "code",
   "execution_count": null,
   "metadata": {},
   "outputs": [],
   "source": [
    "\n"
   ]
  }
 ],
 "metadata": {
  "kernelspec": {
   "display_name": "Python 3",
   "language": "python",
   "name": "python3"
  },
  "language_info": {
   "codemirror_mode": {
    "name": "ipython",
    "version": 3
   },
   "file_extension": ".py",
   "mimetype": "text/x-python",
   "name": "python",
   "nbconvert_exporter": "python",
   "pygments_lexer": "ipython3",
   "version": "3.7.7"
  }
 },
 "nbformat": 4,
 "nbformat_minor": 4
}
